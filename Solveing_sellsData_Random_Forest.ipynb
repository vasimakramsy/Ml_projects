{
  "nbformat": 4,
  "nbformat_minor": 0,
  "metadata": {
    "accelerator": "GPU",
    "colab": {
      "name": " 02 Deep_Dive_into_Random_Forest.ipynb",
      "provenance": [],
      "collapsed_sections": []
    },
    "kernelspec": {
      "name": "python3",
      "display_name": "Python 3"
    },
    "language_info": {
      "codemirror_mode": {
        "name": "ipython",
        "version": 3
      },
      "file_extension": ".py",
      "mimetype": "text/x-python",
      "name": "python",
      "nbconvert_exporter": "python",
      "pygments_lexer": "ipython3",
      "version": "3.7.3"
    }
  },
  "cells": [
    {
      "cell_type": "markdown",
      "metadata": {
        "colab_type": "text",
        "id": "view-in-github"
      },
      "source": [
        "<a href=\"https://colab.research.google.com/github/Nielspace/Learning-DataScience/blob/master/Module%2002%20-%20Random%20Forest%20/%2002%20Deep_Dive_into_Random_Forest.ipynb\" target=\"_parent\"><img src=\"https://colab.research.google.com/assets/colab-badge.svg\" alt=\"Open In Colab\"/></a>"
      ]
    },
    {
      "cell_type": "code",
      "metadata": {
        "id": "yQ7BZWaKsrKd",
        "colab_type": "code",
        "outputId": "67c30bce-b858-4fdc-ac05-7494c028fb3c",
        "colab": {
          "base_uri": "https://localhost:8080/",
          "height": 124
        }
      },
      "source": [
        "from google.colab import drive\n",
        "drive.mount('/content/drive')"
      ],
      "execution_count": 0,
      "outputs": [
        {
          "output_type": "stream",
          "text": [
            "Go to this URL in a browser: https://accounts.google.com/o/oauth2/auth?client_id=947318989803-6bn6qk8qdgf4n4g3pfee6491hc0brc4i.apps.googleusercontent.com&redirect_uri=urn%3Aietf%3Awg%3Aoauth%3A2.0%3Aoob&scope=email%20https%3A%2F%2Fwww.googleapis.com%2Fauth%2Fdocs.test%20https%3A%2F%2Fwww.googleapis.com%2Fauth%2Fdrive%20https%3A%2F%2Fwww.googleapis.com%2Fauth%2Fdrive.photos.readonly%20https%3A%2F%2Fwww.googleapis.com%2Fauth%2Fpeopleapi.readonly&response_type=code\n",
            "\n",
            "Enter your authorization code:\n",
            "··········\n",
            "Mounted at /content/drive\n"
          ],
          "name": "stdout"
        }
      ]
    },
    {
      "cell_type": "markdown",
      "metadata": {
        "colab_type": "text",
        "id": "nNvvxOMKkOQt"
      },
      "source": [
        "# Importing important libraries\n"
      ]
    },
    {
      "cell_type": "code",
      "metadata": {
        "colab_type": "code",
        "id": "Am_jT3UyHxhs",
        "colab": {}
      },
      "source": [
        "import pandas as pd\n",
        "import numpy as np\n",
        "\n",
        "from sklearn.ensemble import RandomForestRegressor\n",
        "from sklearn.metrics import confusion_matrix, mean_squared_error\n",
        "\n",
        "import matplotlib.pyplot as plt\n",
        "from sklearn.tree import export_graphviz\n",
        "import pydotplus\n",
        "from IPython import display\n",
        "from io import StringIO\n",
        "\n",
        "from fastai.imports import *\n"
      ],
      "execution_count": 0,
      "outputs": []
    },
    {
      "cell_type": "markdown",
      "metadata": {
        "colab_type": "text",
        "id": "Cs1KeMbukmNF"
      },
      "source": [
        "# Collecting Data"
      ]
    },
    {
      "cell_type": "code",
      "metadata": {
        "id": "lMl6sBLMtCcE",
        "colab_type": "code",
        "outputId": "a6366e9b-de25-4cd6-9efa-47ad7c29cd6d",
        "colab": {
          "base_uri": "https://localhost:8080/",
          "height": 34
        }
      },
      "source": [
        "\n",
        "%cd drive/My\\ Drive"
      ],
      "execution_count": 0,
      "outputs": [
        {
          "output_type": "stream",
          "text": [
            "/content/drive/My Drive\n"
          ],
          "name": "stdout"
        }
      ]
    },
    {
      "cell_type": "code",
      "metadata": {
        "id": "jKhk6pLwtMkU",
        "colab_type": "code",
        "outputId": "22568d41-eeff-48d1-c0a4-bd023446851f",
        "colab": {
          "base_uri": "https://localhost:8080/",
          "height": 208
        }
      },
      "source": [
        "!ls"
      ],
      "execution_count": 0,
      "outputs": [
        {
          "output_type": "stream",
          "text": [
            "'c1 class 1 Exercise.txt'\n",
            "'Colab Notebooks'\n",
            "'convalutional neural network document.gdoc'\n",
            "'Deep learning .gdoc'\n",
            " dogs-vs-cats-train-validadion-and-evaluation.zip\n",
            " fruit_cnn_model_1.h5\n",
            "'How to get started with Drive.pdf'\n",
            "'Linear Regression Part - 2 .ipynb'\n",
            " LinearSearch.py\n",
            " Project_ImageClassification_report.gdoc\n",
            " Resume.gdoc\n"
          ],
          "name": "stdout"
        }
      ]
    },
    {
      "cell_type": "code",
      "metadata": {
        "id": "MEYW155mteWR",
        "colab_type": "code",
        "outputId": "680d2c57-7c98-4085-a993-a2688c8c3c12",
        "colab": {
          "base_uri": "https://localhost:8080/",
          "height": 34
        }
      },
      "source": [
        "%cd Colab\\ Notebooks"
      ],
      "execution_count": 0,
      "outputs": [
        {
          "output_type": "stream",
          "text": [
            "/content/drive/My Drive/Colab Notebooks\n"
          ],
          "name": "stdout"
        }
      ]
    },
    {
      "cell_type": "code",
      "metadata": {
        "id": "7JRjMHOLtqeV",
        "colab_type": "code",
        "outputId": "af3cc3bf-9f7a-47ec-c8f3-cc5c82dc480f",
        "colab": {
          "base_uri": "https://localhost:8080/",
          "height": 451
        }
      },
      "source": [
        "!ls"
      ],
      "execution_count": 0,
      "outputs": [
        {
          "output_type": "stream",
          "text": [
            "' 02 Deep_Dive_into_Random_Forest.ipynb'\n",
            " blue-book-for-bulldozer.zip\n",
            " fifth_catdog_cnn.ipynb\n",
            " first_convolutional_neuralnetwork.ipynb\n",
            " forthcnn.ipynb\n",
            " GradiantDecent.ipynb\n",
            " Intro_to_Pytorch.ipynb\n",
            "'Lesson 2 - Introduction to Pytorch with gradient descent.ipynb'\n",
            " Practiceing_graphs.ipynb\n",
            " Project_catsdogs_using_CNN_1410.ipynb\n",
            " project_dogscats.ipynb\n",
            " project_for_sale_prediction.ipynb\n",
            "'Pytorch with gradient descent.ipynb'\n",
            " second_cnn_with_flask.ipynb\n",
            " Test.csv\n",
            " third_cnn.ipynb\n",
            " Titanic_with_RandomForr.ipynb\n",
            " Train\n",
            " Untitled0.ipynb\n",
            " Untitled1.ipynb\n",
            " Untitled.ipynb\n",
            " Valid\n",
            "\"Week 02 Understanding the Concept - What's your pet.ipynb\"\n",
            "'Week 03 Image Classification using Keras 01.ipynb'\n",
            "'Week 03 Image Classification using Keras 02.ipynb'\n"
          ],
          "name": "stdout"
        }
      ]
    },
    {
      "cell_type": "code",
      "metadata": {
        "id": "ecRI2k8UuaJ2",
        "colab_type": "code",
        "colab": {}
      },
      "source": [
        "\n"
      ],
      "execution_count": 0,
      "outputs": []
    },
    {
      "cell_type": "code",
      "metadata": {
        "colab_type": "code",
        "id": "mQ01ad8PRK8A",
        "outputId": "b2e7bab9-0c45-4812-a39d-3daf8a305f4a",
        "colab": {
          "base_uri": "https://localhost:8080/",
          "height": 104
        }
      },
      "source": [
        "!unzip blue-book-for-bulldozer.zip"
      ],
      "execution_count": 0,
      "outputs": [
        {
          "output_type": "stream",
          "text": [
            "Archive:  blue-book-for-bulldozer.zip\n",
            "replace Test.csv? [y]es, [n]o, [A]ll, [N]one, [r]ename: A\n",
            "  inflating: Test.csv                \n",
            "  inflating: Train/Train.csv         \n",
            "  inflating: Valid/Valid.csv         \n"
          ],
          "name": "stdout"
        }
      ]
    },
    {
      "cell_type": "code",
      "metadata": {
        "colab_type": "code",
        "id": "shkck62rHxhv",
        "colab": {}
      },
      "source": [
        "PATH = \"Train/\""
      ],
      "execution_count": 0,
      "outputs": []
    },
    {
      "cell_type": "code",
      "metadata": {
        "colab_type": "code",
        "id": "SmIBtfi3Hxh3",
        "outputId": "bd793400-aa5c-4701-c24f-c005b565519f",
        "colab": {
          "base_uri": "https://localhost:8080/",
          "height": 34
        }
      },
      "source": [
        "!ls {PATH}"
      ],
      "execution_count": 0,
      "outputs": [
        {
          "output_type": "stream",
          "text": [
            "Train.csv\n"
          ],
          "name": "stdout"
        }
      ]
    },
    {
      "cell_type": "code",
      "metadata": {
        "colab_type": "code",
        "id": "062EVV3nHxh9",
        "colab": {}
      },
      "source": [
        "data_raw = pd.read_csv(f'{PATH}Train.csv',low_memory=False, \n",
        "                     parse_dates=[\"saledate\"] )"
      ],
      "execution_count": 0,
      "outputs": []
    },
    {
      "cell_type": "code",
      "metadata": {
        "colab_type": "code",
        "id": "5uZDUk-VHxiB",
        "colab": {}
      },
      "source": [
        "def display_all(df):\n",
        "    with pd.option_context(\"display.max_rows\", 1000, \"display.max_columns\", 1000): \n",
        "        display(df)"
      ],
      "execution_count": 0,
      "outputs": []
    },
    {
      "cell_type": "code",
      "metadata": {
        "colab_type": "code",
        "id": "ljFfkoAPHxiE",
        "colab": {}
      },
      "source": [
        "data_prac = data_raw.copy()"
      ],
      "execution_count": 0,
      "outputs": []
    },
    {
      "cell_type": "markdown",
      "metadata": {
        "colab_type": "text",
        "id": "8tSQXtrrksTv"
      },
      "source": [
        "# Learning the Data"
      ]
    },
    {
      "cell_type": "code",
      "metadata": {
        "id": "fwMgQ-g8vquq",
        "colab_type": "code",
        "outputId": "bac612b0-771a-46a1-c88a-45364ffcc465",
        "colab": {
          "base_uri": "https://localhost:8080/",
          "height": 400
        }
      },
      "source": [
        "data_prac.head(5)"
      ],
      "execution_count": 0,
      "outputs": [
        {
          "output_type": "execute_result",
          "data": {
            "text/html": [
              "<div>\n",
              "<style scoped>\n",
              "    .dataframe tbody tr th:only-of-type {\n",
              "        vertical-align: middle;\n",
              "    }\n",
              "\n",
              "    .dataframe tbody tr th {\n",
              "        vertical-align: top;\n",
              "    }\n",
              "\n",
              "    .dataframe thead th {\n",
              "        text-align: right;\n",
              "    }\n",
              "</style>\n",
              "<table border=\"1\" class=\"dataframe\">\n",
              "  <thead>\n",
              "    <tr style=\"text-align: right;\">\n",
              "      <th></th>\n",
              "      <th>SalesID</th>\n",
              "      <th>SalePrice</th>\n",
              "      <th>MachineID</th>\n",
              "      <th>ModelID</th>\n",
              "      <th>datasource</th>\n",
              "      <th>auctioneerID</th>\n",
              "      <th>YearMade</th>\n",
              "      <th>MachineHoursCurrentMeter</th>\n",
              "      <th>UsageBand</th>\n",
              "      <th>saledate</th>\n",
              "      <th>fiModelDesc</th>\n",
              "      <th>fiBaseModel</th>\n",
              "      <th>fiSecondaryDesc</th>\n",
              "      <th>fiModelSeries</th>\n",
              "      <th>fiModelDescriptor</th>\n",
              "      <th>ProductSize</th>\n",
              "      <th>fiProductClassDesc</th>\n",
              "      <th>state</th>\n",
              "      <th>ProductGroup</th>\n",
              "      <th>ProductGroupDesc</th>\n",
              "      <th>Drive_System</th>\n",
              "      <th>Enclosure</th>\n",
              "      <th>Forks</th>\n",
              "      <th>Pad_Type</th>\n",
              "      <th>Ride_Control</th>\n",
              "      <th>Stick</th>\n",
              "      <th>Transmission</th>\n",
              "      <th>Turbocharged</th>\n",
              "      <th>Blade_Extension</th>\n",
              "      <th>Blade_Width</th>\n",
              "      <th>Enclosure_Type</th>\n",
              "      <th>Engine_Horsepower</th>\n",
              "      <th>Hydraulics</th>\n",
              "      <th>Pushblock</th>\n",
              "      <th>Ripper</th>\n",
              "      <th>Scarifier</th>\n",
              "      <th>Tip_Control</th>\n",
              "      <th>Tire_Size</th>\n",
              "      <th>Coupler</th>\n",
              "      <th>Coupler_System</th>\n",
              "      <th>Grouser_Tracks</th>\n",
              "      <th>Hydraulics_Flow</th>\n",
              "      <th>Track_Type</th>\n",
              "      <th>Undercarriage_Pad_Width</th>\n",
              "      <th>Stick_Length</th>\n",
              "      <th>Thumb</th>\n",
              "      <th>Pattern_Changer</th>\n",
              "      <th>Grouser_Type</th>\n",
              "      <th>Backhoe_Mounting</th>\n",
              "      <th>Blade_Type</th>\n",
              "      <th>Travel_Controls</th>\n",
              "      <th>Differential_Type</th>\n",
              "      <th>Steering_Controls</th>\n",
              "    </tr>\n",
              "  </thead>\n",
              "  <tbody>\n",
              "    <tr>\n",
              "      <th>0</th>\n",
              "      <td>1139246</td>\n",
              "      <td>66000</td>\n",
              "      <td>999089</td>\n",
              "      <td>3157</td>\n",
              "      <td>121</td>\n",
              "      <td>3.0</td>\n",
              "      <td>2004</td>\n",
              "      <td>68.0</td>\n",
              "      <td>Low</td>\n",
              "      <td>2006-11-16</td>\n",
              "      <td>521D</td>\n",
              "      <td>521</td>\n",
              "      <td>D</td>\n",
              "      <td>NaN</td>\n",
              "      <td>NaN</td>\n",
              "      <td>NaN</td>\n",
              "      <td>Wheel Loader - 110.0 to 120.0 Horsepower</td>\n",
              "      <td>Alabama</td>\n",
              "      <td>WL</td>\n",
              "      <td>Wheel Loader</td>\n",
              "      <td>NaN</td>\n",
              "      <td>EROPS w AC</td>\n",
              "      <td>None or Unspecified</td>\n",
              "      <td>NaN</td>\n",
              "      <td>None or Unspecified</td>\n",
              "      <td>NaN</td>\n",
              "      <td>NaN</td>\n",
              "      <td>NaN</td>\n",
              "      <td>NaN</td>\n",
              "      <td>NaN</td>\n",
              "      <td>NaN</td>\n",
              "      <td>NaN</td>\n",
              "      <td>2 Valve</td>\n",
              "      <td>NaN</td>\n",
              "      <td>NaN</td>\n",
              "      <td>NaN</td>\n",
              "      <td>NaN</td>\n",
              "      <td>None or Unspecified</td>\n",
              "      <td>None or Unspecified</td>\n",
              "      <td>NaN</td>\n",
              "      <td>NaN</td>\n",
              "      <td>NaN</td>\n",
              "      <td>NaN</td>\n",
              "      <td>NaN</td>\n",
              "      <td>NaN</td>\n",
              "      <td>NaN</td>\n",
              "      <td>NaN</td>\n",
              "      <td>NaN</td>\n",
              "      <td>NaN</td>\n",
              "      <td>NaN</td>\n",
              "      <td>NaN</td>\n",
              "      <td>Standard</td>\n",
              "      <td>Conventional</td>\n",
              "    </tr>\n",
              "    <tr>\n",
              "      <th>1</th>\n",
              "      <td>1139248</td>\n",
              "      <td>57000</td>\n",
              "      <td>117657</td>\n",
              "      <td>77</td>\n",
              "      <td>121</td>\n",
              "      <td>3.0</td>\n",
              "      <td>1996</td>\n",
              "      <td>4640.0</td>\n",
              "      <td>Low</td>\n",
              "      <td>2004-03-26</td>\n",
              "      <td>950FII</td>\n",
              "      <td>950</td>\n",
              "      <td>F</td>\n",
              "      <td>II</td>\n",
              "      <td>NaN</td>\n",
              "      <td>Medium</td>\n",
              "      <td>Wheel Loader - 150.0 to 175.0 Horsepower</td>\n",
              "      <td>North Carolina</td>\n",
              "      <td>WL</td>\n",
              "      <td>Wheel Loader</td>\n",
              "      <td>NaN</td>\n",
              "      <td>EROPS w AC</td>\n",
              "      <td>None or Unspecified</td>\n",
              "      <td>NaN</td>\n",
              "      <td>None or Unspecified</td>\n",
              "      <td>NaN</td>\n",
              "      <td>NaN</td>\n",
              "      <td>NaN</td>\n",
              "      <td>NaN</td>\n",
              "      <td>NaN</td>\n",
              "      <td>NaN</td>\n",
              "      <td>NaN</td>\n",
              "      <td>2 Valve</td>\n",
              "      <td>NaN</td>\n",
              "      <td>NaN</td>\n",
              "      <td>NaN</td>\n",
              "      <td>NaN</td>\n",
              "      <td>23.5</td>\n",
              "      <td>None or Unspecified</td>\n",
              "      <td>NaN</td>\n",
              "      <td>NaN</td>\n",
              "      <td>NaN</td>\n",
              "      <td>NaN</td>\n",
              "      <td>NaN</td>\n",
              "      <td>NaN</td>\n",
              "      <td>NaN</td>\n",
              "      <td>NaN</td>\n",
              "      <td>NaN</td>\n",
              "      <td>NaN</td>\n",
              "      <td>NaN</td>\n",
              "      <td>NaN</td>\n",
              "      <td>Standard</td>\n",
              "      <td>Conventional</td>\n",
              "    </tr>\n",
              "    <tr>\n",
              "      <th>2</th>\n",
              "      <td>1139249</td>\n",
              "      <td>10000</td>\n",
              "      <td>434808</td>\n",
              "      <td>7009</td>\n",
              "      <td>121</td>\n",
              "      <td>3.0</td>\n",
              "      <td>2001</td>\n",
              "      <td>2838.0</td>\n",
              "      <td>High</td>\n",
              "      <td>2004-02-26</td>\n",
              "      <td>226</td>\n",
              "      <td>226</td>\n",
              "      <td>NaN</td>\n",
              "      <td>NaN</td>\n",
              "      <td>NaN</td>\n",
              "      <td>NaN</td>\n",
              "      <td>Skid Steer Loader - 1351.0 to 1601.0 Lb Operat...</td>\n",
              "      <td>New York</td>\n",
              "      <td>SSL</td>\n",
              "      <td>Skid Steer Loaders</td>\n",
              "      <td>NaN</td>\n",
              "      <td>OROPS</td>\n",
              "      <td>None or Unspecified</td>\n",
              "      <td>NaN</td>\n",
              "      <td>NaN</td>\n",
              "      <td>NaN</td>\n",
              "      <td>NaN</td>\n",
              "      <td>NaN</td>\n",
              "      <td>NaN</td>\n",
              "      <td>NaN</td>\n",
              "      <td>NaN</td>\n",
              "      <td>NaN</td>\n",
              "      <td>Auxiliary</td>\n",
              "      <td>NaN</td>\n",
              "      <td>NaN</td>\n",
              "      <td>NaN</td>\n",
              "      <td>NaN</td>\n",
              "      <td>NaN</td>\n",
              "      <td>None or Unspecified</td>\n",
              "      <td>None or Unspecified</td>\n",
              "      <td>None or Unspecified</td>\n",
              "      <td>Standard</td>\n",
              "      <td>NaN</td>\n",
              "      <td>NaN</td>\n",
              "      <td>NaN</td>\n",
              "      <td>NaN</td>\n",
              "      <td>NaN</td>\n",
              "      <td>NaN</td>\n",
              "      <td>NaN</td>\n",
              "      <td>NaN</td>\n",
              "      <td>NaN</td>\n",
              "      <td>NaN</td>\n",
              "      <td>NaN</td>\n",
              "    </tr>\n",
              "    <tr>\n",
              "      <th>3</th>\n",
              "      <td>1139251</td>\n",
              "      <td>38500</td>\n",
              "      <td>1026470</td>\n",
              "      <td>332</td>\n",
              "      <td>121</td>\n",
              "      <td>3.0</td>\n",
              "      <td>2001</td>\n",
              "      <td>3486.0</td>\n",
              "      <td>High</td>\n",
              "      <td>2011-05-19</td>\n",
              "      <td>PC120-6E</td>\n",
              "      <td>PC120</td>\n",
              "      <td>NaN</td>\n",
              "      <td>-6E</td>\n",
              "      <td>NaN</td>\n",
              "      <td>Small</td>\n",
              "      <td>Hydraulic Excavator, Track - 12.0 to 14.0 Metr...</td>\n",
              "      <td>Texas</td>\n",
              "      <td>TEX</td>\n",
              "      <td>Track Excavators</td>\n",
              "      <td>NaN</td>\n",
              "      <td>EROPS w AC</td>\n",
              "      <td>NaN</td>\n",
              "      <td>NaN</td>\n",
              "      <td>NaN</td>\n",
              "      <td>NaN</td>\n",
              "      <td>NaN</td>\n",
              "      <td>NaN</td>\n",
              "      <td>NaN</td>\n",
              "      <td>NaN</td>\n",
              "      <td>NaN</td>\n",
              "      <td>NaN</td>\n",
              "      <td>2 Valve</td>\n",
              "      <td>NaN</td>\n",
              "      <td>NaN</td>\n",
              "      <td>NaN</td>\n",
              "      <td>NaN</td>\n",
              "      <td>NaN</td>\n",
              "      <td>None or Unspecified</td>\n",
              "      <td>NaN</td>\n",
              "      <td>NaN</td>\n",
              "      <td>NaN</td>\n",
              "      <td>NaN</td>\n",
              "      <td>NaN</td>\n",
              "      <td>NaN</td>\n",
              "      <td>NaN</td>\n",
              "      <td>NaN</td>\n",
              "      <td>NaN</td>\n",
              "      <td>NaN</td>\n",
              "      <td>NaN</td>\n",
              "      <td>NaN</td>\n",
              "      <td>NaN</td>\n",
              "      <td>NaN</td>\n",
              "    </tr>\n",
              "    <tr>\n",
              "      <th>4</th>\n",
              "      <td>1139253</td>\n",
              "      <td>11000</td>\n",
              "      <td>1057373</td>\n",
              "      <td>17311</td>\n",
              "      <td>121</td>\n",
              "      <td>3.0</td>\n",
              "      <td>2007</td>\n",
              "      <td>722.0</td>\n",
              "      <td>Medium</td>\n",
              "      <td>2009-07-23</td>\n",
              "      <td>S175</td>\n",
              "      <td>S175</td>\n",
              "      <td>NaN</td>\n",
              "      <td>NaN</td>\n",
              "      <td>NaN</td>\n",
              "      <td>NaN</td>\n",
              "      <td>Skid Steer Loader - 1601.0 to 1751.0 Lb Operat...</td>\n",
              "      <td>New York</td>\n",
              "      <td>SSL</td>\n",
              "      <td>Skid Steer Loaders</td>\n",
              "      <td>NaN</td>\n",
              "      <td>EROPS</td>\n",
              "      <td>None or Unspecified</td>\n",
              "      <td>NaN</td>\n",
              "      <td>NaN</td>\n",
              "      <td>NaN</td>\n",
              "      <td>NaN</td>\n",
              "      <td>NaN</td>\n",
              "      <td>NaN</td>\n",
              "      <td>NaN</td>\n",
              "      <td>NaN</td>\n",
              "      <td>NaN</td>\n",
              "      <td>Auxiliary</td>\n",
              "      <td>NaN</td>\n",
              "      <td>NaN</td>\n",
              "      <td>NaN</td>\n",
              "      <td>NaN</td>\n",
              "      <td>NaN</td>\n",
              "      <td>None or Unspecified</td>\n",
              "      <td>None or Unspecified</td>\n",
              "      <td>None or Unspecified</td>\n",
              "      <td>Standard</td>\n",
              "      <td>NaN</td>\n",
              "      <td>NaN</td>\n",
              "      <td>NaN</td>\n",
              "      <td>NaN</td>\n",
              "      <td>NaN</td>\n",
              "      <td>NaN</td>\n",
              "      <td>NaN</td>\n",
              "      <td>NaN</td>\n",
              "      <td>NaN</td>\n",
              "      <td>NaN</td>\n",
              "      <td>NaN</td>\n",
              "    </tr>\n",
              "  </tbody>\n",
              "</table>\n",
              "</div>"
            ],
            "text/plain": [
              "   SalesID  SalePrice  ...  Differential_Type  Steering_Controls\n",
              "0  1139246      66000  ...           Standard       Conventional\n",
              "1  1139248      57000  ...           Standard       Conventional\n",
              "2  1139249      10000  ...                NaN                NaN\n",
              "3  1139251      38500  ...                NaN                NaN\n",
              "4  1139253      11000  ...                NaN                NaN\n",
              "\n",
              "[5 rows x 53 columns]"
            ]
          },
          "metadata": {
            "tags": []
          },
          "execution_count": 13
        }
      ]
    },
    {
      "cell_type": "code",
      "metadata": {
        "colab_type": "code",
        "id": "O6Olkiu7HxiG",
        "outputId": "609d92fc-19c2-4d01-91ef-b58f76f9815a",
        "colab": {
          "base_uri": "https://localhost:8080/",
          "height": 1000
        }
      },
      "source": [
        "data_prac.info()"
      ],
      "execution_count": 0,
      "outputs": [
        {
          "output_type": "stream",
          "text": [
            "<class 'pandas.core.frame.DataFrame'>\n",
            "RangeIndex: 401125 entries, 0 to 401124\n",
            "Data columns (total 53 columns):\n",
            "SalesID                     401125 non-null int64\n",
            "SalePrice                   401125 non-null int64\n",
            "MachineID                   401125 non-null int64\n",
            "ModelID                     401125 non-null int64\n",
            "datasource                  401125 non-null int64\n",
            "auctioneerID                380989 non-null float64\n",
            "YearMade                    401125 non-null int64\n",
            "MachineHoursCurrentMeter    142765 non-null float64\n",
            "UsageBand                   69639 non-null object\n",
            "saledate                    401125 non-null datetime64[ns]\n",
            "fiModelDesc                 401125 non-null object\n",
            "fiBaseModel                 401125 non-null object\n",
            "fiSecondaryDesc             263934 non-null object\n",
            "fiModelSeries               56908 non-null object\n",
            "fiModelDescriptor           71919 non-null object\n",
            "ProductSize                 190350 non-null object\n",
            "fiProductClassDesc          401125 non-null object\n",
            "state                       401125 non-null object\n",
            "ProductGroup                401125 non-null object\n",
            "ProductGroupDesc            401125 non-null object\n",
            "Drive_System                104361 non-null object\n",
            "Enclosure                   400800 non-null object\n",
            "Forks                       192077 non-null object\n",
            "Pad_Type                    79134 non-null object\n",
            "Ride_Control                148606 non-null object\n",
            "Stick                       79134 non-null object\n",
            "Transmission                183230 non-null object\n",
            "Turbocharged                79134 non-null object\n",
            "Blade_Extension             25219 non-null object\n",
            "Blade_Width                 25219 non-null object\n",
            "Enclosure_Type              25219 non-null object\n",
            "Engine_Horsepower           25219 non-null object\n",
            "Hydraulics                  320570 non-null object\n",
            "Pushblock                   25219 non-null object\n",
            "Ripper                      104137 non-null object\n",
            "Scarifier                   25230 non-null object\n",
            "Tip_Control                 25219 non-null object\n",
            "Tire_Size                   94718 non-null object\n",
            "Coupler                     213952 non-null object\n",
            "Coupler_System              43458 non-null object\n",
            "Grouser_Tracks              43362 non-null object\n",
            "Hydraulics_Flow             43362 non-null object\n",
            "Track_Type                  99153 non-null object\n",
            "Undercarriage_Pad_Width     99872 non-null object\n",
            "Stick_Length                99218 non-null object\n",
            "Thumb                       99288 non-null object\n",
            "Pattern_Changer             99218 non-null object\n",
            "Grouser_Type                99153 non-null object\n",
            "Backhoe_Mounting            78672 non-null object\n",
            "Blade_Type                  79833 non-null object\n",
            "Travel_Controls             79834 non-null object\n",
            "Differential_Type           69411 non-null object\n",
            "Steering_Controls           69369 non-null object\n",
            "dtypes: datetime64[ns](1), float64(2), int64(6), object(44)\n",
            "memory usage: 162.2+ MB\n"
          ],
          "name": "stdout"
        }
      ]
    },
    {
      "cell_type": "code",
      "metadata": {
        "colab_type": "code",
        "id": "UHMlzpl1HxiI",
        "colab": {}
      },
      "source": [
        "def assigning_categorical(data, column):\n",
        "    categories = []\n",
        "    for i in data[column].unique():\n",
        "        categories.append(i)\n",
        "    try:    \n",
        "        categories.remove(np.nan)\n",
        "    except Exception as e:\n",
        "        pass\n",
        "    data[column+'_new'] = pd.Categorical(data[column], categories=categories, ordered=True).codes\n",
        "    data.drop(f'{column}', axis=1, inplace = True)\n",
        "    data.replace(-1, np.nan, inplace=True)"
      ],
      "execution_count": 0,
      "outputs": []
    },
    {
      "cell_type": "code",
      "metadata": {
        "colab_type": "code",
        "id": "Yggb4uH9HxiK",
        "colab": {}
      },
      "source": [
        "for i in data_prac.columns:\n",
        "    if data_prac[i].dtype == 'O':\n",
        "        try:\n",
        "            assigning_categorical(data_prac, i)\n",
        "        except Exception as e:\n",
        "            pass"
      ],
      "execution_count": 0,
      "outputs": []
    },
    {
      "cell_type": "code",
      "metadata": {
        "colab_type": "code",
        "id": "RFGRHj82HxiM",
        "colab": {}
      },
      "source": [
        "data_prac['saleyear'] = data_prac['saledate'].dt.year\n",
        "data_prac.drop('saledate', axis=1,inplace=True)"
      ],
      "execution_count": 0,
      "outputs": []
    },
    {
      "cell_type": "code",
      "metadata": {
        "colab_type": "code",
        "id": "nVIQefc0HxiP",
        "colab": {}
      },
      "source": [
        "data_prac.SalePrice = np.log(data_prac.SalePrice)"
      ],
      "execution_count": 0,
      "outputs": []
    },
    {
      "cell_type": "code",
      "metadata": {
        "colab_type": "code",
        "id": "oZ_8Neg6HxiR",
        "colab": {}
      },
      "source": [
        "for i in data_prac.columns:\n",
        "    data_prac[i] = data_prac[i].fillna(data_prac[i].median())"
      ],
      "execution_count": 0,
      "outputs": []
    },
    {
      "cell_type": "code",
      "metadata": {
        "colab_type": "code",
        "id": "HblmOyrxHxia",
        "colab": {}
      },
      "source": [
        "X = data_prac.drop('SalePrice', axis=1)\n",
        "y = data_prac.SalePrice"
      ],
      "execution_count": 0,
      "outputs": []
    },
    {
      "cell_type": "code",
      "metadata": {
        "colab_type": "code",
        "id": "8_-osb7WHxie",
        "outputId": "b3e2f4e0-d4ca-423e-95b6-69f4376b0514",
        "colab": {
          "base_uri": "https://localhost:8080/",
          "height": 89
        }
      },
      "source": [
        "forr = RandomForestRegressor(n_jobs=-1)\n",
        "forr.fit(X,y)\n",
        "forr.score(X,y)"
      ],
      "execution_count": 0,
      "outputs": [
        {
          "output_type": "stream",
          "text": [
            "/usr/local/lib/python3.6/dist-packages/sklearn/ensemble/forest.py:245: FutureWarning: The default value of n_estimators will change from 10 in version 0.20 to 100 in 0.22.\n",
            "  \"10 in version 0.20 to 100 in 0.22.\", FutureWarning)\n"
          ],
          "name": "stderr"
        },
        {
          "output_type": "execute_result",
          "data": {
            "text/plain": [
              "0.9817732450845598"
            ]
          },
          "metadata": {
            "tags": []
          },
          "execution_count": 21
        }
      ]
    },
    {
      "cell_type": "markdown",
      "metadata": {
        "colab_type": "text",
        "id": "au4Mo_R2Hxii"
      },
      "source": [
        "# Creating Sets"
      ]
    },
    {
      "cell_type": "code",
      "metadata": {
        "colab_type": "code",
        "id": "dWv46ddGHxij",
        "outputId": "52d1b5c9-e3c6-48d6-d8f2-2cb8605a7b37",
        "colab": {
          "base_uri": "https://localhost:8080/",
          "height": 34
        }
      },
      "source": [
        "def split_vals(a,n): return a[:n].copy(), a[n:].copy()\n",
        "\n",
        "n_valid = 12000  # same as Kaggle's test set size\n",
        "n_trn = len(X)-n_valid\n",
        "raw_train, raw_valid = split_vals(data_prac, n_trn)\n",
        "X_train, X_valid = split_vals(X, n_trn)\n",
        "y_train, y_valid = split_vals(y, n_trn)\n",
        "\n",
        "X_train.shape, y_train.shape, X_valid.shape"
      ],
      "execution_count": 0,
      "outputs": [
        {
          "output_type": "execute_result",
          "data": {
            "text/plain": [
              "((389125, 52), (389125,), (12000, 52))"
            ]
          },
          "metadata": {
            "tags": []
          },
          "execution_count": 22
        }
      ]
    },
    {
      "cell_type": "markdown",
      "metadata": {
        "colab_type": "text",
        "id": "H2kuRM81Hxip"
      },
      "source": [
        "# Random Forests"
      ]
    },
    {
      "cell_type": "markdown",
      "metadata": {
        "colab_type": "text",
        "id": "NNGx47Y9Hxiq"
      },
      "source": [
        "## Base model\n",
        "\n",
        "Let's try our model again, this time with separate training and validation sets."
      ]
    },
    {
      "cell_type": "code",
      "metadata": {
        "colab_type": "code",
        "id": "dHEELc3tHxir",
        "colab": {}
      },
      "source": [
        "def rmse(x,y): return math.sqrt(((x-y)**2).mean())\n",
        "\n",
        "def print_score(m):\n",
        "    res = [rmse(m.predict(X_train), y_train), rmse(m.predict(X_valid), y_valid),\n",
        "                m.score(X_train, y_train), m.score(X_valid, y_valid)]\n",
        "    if hasattr(m, 'oob_score_'): res.append(m.oob_score_)\n",
        "    print(res)"
      ],
      "execution_count": 0,
      "outputs": []
    },
    {
      "cell_type": "code",
      "metadata": {
        "colab_type": "code",
        "id": "gUP4mAk3Hxiu",
        "outputId": "a071d510-fea9-44c9-ea64-36d4456f5cda",
        "colab": {
          "base_uri": "https://localhost:8080/",
          "height": 34
        }
      },
      "source": [
        "m = RandomForestRegressor(n_estimators=1, max_depth=3, bootstrap=False, n_jobs=-1)\n",
        "m.fit(X_train, y_train)\n",
        "print_score(m)"
      ],
      "execution_count": 0,
      "outputs": [
        {
          "output_type": "stream",
          "text": [
            "[0.5513536884318444, 0.5727537785896839, 0.3646758053798844, 0.41415341861055127]\n"
          ],
          "name": "stdout"
        }
      ]
    },
    {
      "cell_type": "code",
      "metadata": {
        "colab_type": "code",
        "id": "6lo837keHxjB",
        "colab": {}
      },
      "source": [
        "import graphviz\n",
        "import IPython\n",
        "\n",
        "def draw_tree(t, df, size=10, ratio=0.6, precision=0):\n",
        "    \"\"\" Draws a representation of a random forest in IPython.\n",
        "    Parameters:\n",
        "    -----------\n",
        "    t: The tree you wish to draw\n",
        "    df: The data used to train the tree. This is used to get the names of the features.\n",
        "    \"\"\"\n",
        "    s=export_graphviz(t, out_file=None, feature_names=df.columns, filled=True,\n",
        "                      special_characters=True, rotate=True, precision=precision)\n",
        "    IPython.display.display(graphviz.Source(re.sub('Tree {',\n",
        "       f'Tree {{ size={size}; ratio={ratio}', s)))"
      ],
      "execution_count": 0,
      "outputs": []
    },
    {
      "cell_type": "code",
      "metadata": {
        "colab_type": "code",
        "id": "mjLW0GrBHxjH",
        "outputId": "3b081fa0-0aa3-44c5-bf14-f3d3a5eabf22",
        "colab": {
          "base_uri": "https://localhost:8080/",
          "height": 600
        }
      },
      "source": [
        "draw_tree(m.estimators_[0], X, precision=3)"
      ],
      "execution_count": 0,
      "outputs": [
        {
          "output_type": "display_data",
          "data": {
            "text/plain": [
              "<graphviz.files.Source at 0x7fdd19990d68>"
            ],
            "image/svg+xml": "<?xml version=\"1.0\" encoding=\"UTF-8\" standalone=\"no\"?>\n<!DOCTYPE svg PUBLIC \"-//W3C//DTD SVG 1.1//EN\"\n \"http://www.w3.org/Graphics/SVG/1.1/DTD/svg11.dtd\">\n<!-- Generated by graphviz version 2.40.1 (20161225.0304)\n -->\n<!-- Title: Tree Pages: 1 -->\n<svg width=\"720pt\" height=\"434pt\"\n viewBox=\"0.00 0.00 720.00 434.49\" xmlns=\"http://www.w3.org/2000/svg\" xmlns:xlink=\"http://www.w3.org/1999/xlink\">\n<g id=\"graph0\" class=\"graph\" transform=\"scale(.7787 .7787) rotate(0) translate(4 554)\">\n<title>Tree</title>\n<polygon fill=\"#ffffff\" stroke=\"transparent\" points=\"-4,4 -4,-554 920.6667,-554 920.6667,4 -4,4\"/>\n<!-- 0 -->\n<g id=\"node1\" class=\"node\">\n<title>0</title>\n<polygon fill=\"#f7d8c1\" stroke=\"#000000\" points=\"157.1667,-336.5 18.1667,-336.5 18.1667,-268.5 157.1667,-268.5 157.1667,-336.5\"/>\n<text text-anchor=\"start\" x=\"26.1667\" y=\"-321.3\" font-family=\"Times,serif\" font-size=\"14.00\" fill=\"#000000\">Enclosure_new ≤ 0.5</text>\n<text text-anchor=\"start\" x=\"51.1667\" y=\"-306.3\" font-family=\"Times,serif\" font-size=\"14.00\" fill=\"#000000\">mse = 0.478</text>\n<text text-anchor=\"start\" x=\"34.6667\" y=\"-291.3\" font-family=\"Times,serif\" font-size=\"14.00\" fill=\"#000000\">samples = 389125</text>\n<text text-anchor=\"start\" x=\"43.6667\" y=\"-276.3\" font-family=\"Times,serif\" font-size=\"14.00\" fill=\"#000000\">value = 10.106</text>\n</g>\n<!-- 1 -->\n<g id=\"node2\" class=\"node\">\n<title>1</title>\n<polygon fill=\"#efaf81\" stroke=\"#000000\" points=\"438.6667,-372.5 246.6667,-372.5 246.6667,-304.5 438.6667,-304.5 438.6667,-372.5\"/>\n<text text-anchor=\"start\" x=\"254.6667\" y=\"-357.3\" font-family=\"Times,serif\" font-size=\"14.00\" fill=\"#000000\">ProductGroupDesc_new ≤ 3.5</text>\n<text text-anchor=\"start\" x=\"306.1667\" y=\"-342.3\" font-family=\"Times,serif\" font-size=\"14.00\" fill=\"#000000\">mse = 0.314</text>\n<text text-anchor=\"start\" x=\"293.1667\" y=\"-327.3\" font-family=\"Times,serif\" font-size=\"14.00\" fill=\"#000000\">samples = 84043</text>\n<text text-anchor=\"start\" x=\"298.6667\" y=\"-312.3\" font-family=\"Times,serif\" font-size=\"14.00\" fill=\"#000000\">value = 10.713</text>\n</g>\n<!-- 0&#45;&gt;1 -->\n<g id=\"edge1\" class=\"edge\">\n<title>0&#45;&gt;1</title>\n<path fill=\"none\" stroke=\"#000000\" d=\"M157.3465,-312.3372C181.6675,-315.7707 209.5495,-319.707 236.1747,-323.4658\"/>\n<polygon fill=\"#000000\" stroke=\"#000000\" points=\"235.9164,-326.964 246.3075,-324.8964 236.895,-320.0327 235.9164,-326.964\"/>\n<text text-anchor=\"middle\" x=\"226.3323\" y=\"-336.2293\" font-family=\"Times,serif\" font-size=\"14.00\" fill=\"#000000\">True</text>\n</g>\n<!-- 8 -->\n<g id=\"node9\" class=\"node\">\n<title>8</title>\n<polygon fill=\"#f9e3d3\" stroke=\"#000000\" points=\"405.1667,-245.5 280.1667,-245.5 280.1667,-177.5 405.1667,-177.5 405.1667,-245.5\"/>\n<text text-anchor=\"start\" x=\"288.1667\" y=\"-230.3\" font-family=\"Times,serif\" font-size=\"14.00\" fill=\"#000000\">ModelID ≤ 4573.0</text>\n<text text-anchor=\"start\" x=\"306.1667\" y=\"-215.3\" font-family=\"Times,serif\" font-size=\"14.00\" fill=\"#000000\">mse = 0.394</text>\n<text text-anchor=\"start\" x=\"289.6667\" y=\"-200.3\" font-family=\"Times,serif\" font-size=\"14.00\" fill=\"#000000\">samples = 305082</text>\n<text text-anchor=\"start\" x=\"302.1667\" y=\"-185.3\" font-family=\"Times,serif\" font-size=\"14.00\" fill=\"#000000\">value = 9.938</text>\n</g>\n<!-- 0&#45;&gt;8 -->\n<g id=\"edge8\" class=\"edge\">\n<title>0&#45;&gt;8</title>\n<path fill=\"none\" stroke=\"#000000\" d=\"M157.3465,-277.6339C192.3919,-265.1275 234.8314,-249.9824 270.25,-237.3428\"/>\n<polygon fill=\"#000000\" stroke=\"#000000\" points=\"271.7999,-240.506 280.0418,-233.8485 269.4471,-233.9132 271.7999,-240.506\"/>\n<text text-anchor=\"middle\" x=\"257.451\" y=\"-219.4407\" font-family=\"Times,serif\" font-size=\"14.00\" fill=\"#000000\">False</text>\n</g>\n<!-- 2 -->\n<g id=\"node3\" class=\"node\">\n<title>2</title>\n<polygon fill=\"#f0b48a\" stroke=\"#000000\" points=\"695.6667,-486.5 531.6667,-486.5 531.6667,-418.5 695.6667,-418.5 695.6667,-486.5\"/>\n<text text-anchor=\"start\" x=\"539.6667\" y=\"-471.3\" font-family=\"Times,serif\" font-size=\"14.00\" fill=\"#000000\">ProductGroup_new ≤ 2.5</text>\n<text text-anchor=\"start\" x=\"577.1667\" y=\"-456.3\" font-family=\"Times,serif\" font-size=\"14.00\" fill=\"#000000\">mse = 0.292</text>\n<text text-anchor=\"start\" x=\"564.1667\" y=\"-441.3\" font-family=\"Times,serif\" font-size=\"14.00\" fill=\"#000000\">samples = 63810</text>\n<text text-anchor=\"start\" x=\"569.6667\" y=\"-426.3\" font-family=\"Times,serif\" font-size=\"14.00\" fill=\"#000000\">value = 10.635</text>\n</g>\n<!-- 1&#45;&gt;2 -->\n<g id=\"edge2\" class=\"edge\">\n<title>1&#45;&gt;2</title>\n<path fill=\"none\" stroke=\"#000000\" d=\"M423.6085,-372.5493C454.9802,-385.7463 491.036,-400.9137 523.2535,-414.4664\"/>\n<polygon fill=\"#000000\" stroke=\"#000000\" points=\"522.0991,-417.7778 532.6739,-418.4293 524.8134,-411.3255 522.0991,-417.7778\"/>\n</g>\n<!-- 5 -->\n<g id=\"node6\" class=\"node\">\n<title>5</title>\n<polygon fill=\"#eb9e67\" stroke=\"#000000\" points=\"680.1667,-372.5 547.1667,-372.5 547.1667,-304.5 680.1667,-304.5 680.1667,-372.5\"/>\n<text text-anchor=\"start\" x=\"555.1667\" y=\"-357.3\" font-family=\"Times,serif\" font-size=\"14.00\" fill=\"#000000\">ModelID ≤ 23900.0</text>\n<text text-anchor=\"start\" x=\"577.1667\" y=\"-342.3\" font-family=\"Times,serif\" font-size=\"14.00\" fill=\"#000000\">mse = 0.301</text>\n<text text-anchor=\"start\" x=\"564.1667\" y=\"-327.3\" font-family=\"Times,serif\" font-size=\"14.00\" fill=\"#000000\">samples = 20233</text>\n<text text-anchor=\"start\" x=\"569.6667\" y=\"-312.3\" font-family=\"Times,serif\" font-size=\"14.00\" fill=\"#000000\">value = 10.962</text>\n</g>\n<!-- 1&#45;&gt;5 -->\n<g id=\"edge5\" class=\"edge\">\n<title>1&#45;&gt;5</title>\n<path fill=\"none\" stroke=\"#000000\" d=\"M438.9742,-338.5C471.0949,-338.5 506.4306,-338.5 536.8676,-338.5\"/>\n<polygon fill=\"#000000\" stroke=\"#000000\" points=\"536.9903,-342.0001 546.9902,-338.5 536.9902,-335.0001 536.9903,-342.0001\"/>\n</g>\n<!-- 3 -->\n<g id=\"node4\" class=\"node\">\n<title>3</title>\n<polygon fill=\"#efb184\" stroke=\"#000000\" points=\"897.1667,-550 782.1667,-550 782.1667,-497 897.1667,-497 897.1667,-550\"/>\n<text text-anchor=\"start\" x=\"803.1667\" y=\"-534.8\" font-family=\"Times,serif\" font-size=\"14.00\" fill=\"#000000\">mse = 0.286</text>\n<text text-anchor=\"start\" x=\"790.1667\" y=\"-519.8\" font-family=\"Times,serif\" font-size=\"14.00\" fill=\"#000000\">samples = 57081</text>\n<text text-anchor=\"start\" x=\"795.6667\" y=\"-504.8\" font-family=\"Times,serif\" font-size=\"14.00\" fill=\"#000000\">value = 10.691</text>\n</g>\n<!-- 2&#45;&gt;3 -->\n<g id=\"edge3\" class=\"edge\">\n<title>2&#45;&gt;3</title>\n<path fill=\"none\" stroke=\"#000000\" d=\"M695.8972,-478.3335C720.9664,-486.2092 748.2228,-494.772 772.1961,-502.3035\"/>\n<polygon fill=\"#000000\" stroke=\"#000000\" points=\"771.3145,-505.6951 781.9038,-505.3533 773.4126,-499.0169 771.3145,-505.6951\"/>\n</g>\n<!-- 4 -->\n<g id=\"node5\" class=\"node\">\n<title>4</title>\n<polygon fill=\"#f6d4bc\" stroke=\"#000000\" points=\"893.1667,-479 786.1667,-479 786.1667,-426 893.1667,-426 893.1667,-479\"/>\n<text text-anchor=\"start\" x=\"803.1667\" y=\"-463.8\" font-family=\"Times,serif\" font-size=\"14.00\" fill=\"#000000\">mse = 0.086</text>\n<text text-anchor=\"start\" x=\"794.1667\" y=\"-448.8\" font-family=\"Times,serif\" font-size=\"14.00\" fill=\"#000000\">samples = 6729</text>\n<text text-anchor=\"start\" x=\"795.6667\" y=\"-433.8\" font-family=\"Times,serif\" font-size=\"14.00\" fill=\"#000000\">value = 10.156</text>\n</g>\n<!-- 2&#45;&gt;4 -->\n<g id=\"edge4\" class=\"edge\">\n<title>2&#45;&gt;4</title>\n<path fill=\"none\" stroke=\"#000000\" d=\"M695.8972,-452.5C722.2975,-452.5 751.1234,-452.5 775.9863,-452.5\"/>\n<polygon fill=\"#000000\" stroke=\"#000000\" points=\"776.0206,-456.0001 786.0205,-452.5 776.0205,-449.0001 776.0206,-456.0001\"/>\n</g>\n<!-- 6 -->\n<g id=\"node7\" class=\"node\">\n<title>6</title>\n<polygon fill=\"#eca571\" stroke=\"#000000\" points=\"897.1667,-408 782.1667,-408 782.1667,-355 897.1667,-355 897.1667,-408\"/>\n<text text-anchor=\"start\" x=\"803.1667\" y=\"-392.8\" font-family=\"Times,serif\" font-size=\"14.00\" fill=\"#000000\">mse = 0.285</text>\n<text text-anchor=\"start\" x=\"790.1667\" y=\"-377.8\" font-family=\"Times,serif\" font-size=\"14.00\" fill=\"#000000\">samples = 16797</text>\n<text text-anchor=\"start\" x=\"795.6667\" y=\"-362.8\" font-family=\"Times,serif\" font-size=\"14.00\" fill=\"#000000\">value = 10.872</text>\n</g>\n<!-- 5&#45;&gt;6 -->\n<g id=\"edge6\" class=\"edge\">\n<title>5&#45;&gt;6</title>\n<path fill=\"none\" stroke=\"#000000\" d=\"M680.2518,-351.1688C709.1367,-356.6647 742.919,-363.0923 771.9319,-368.6124\"/>\n<polygon fill=\"#000000\" stroke=\"#000000\" points=\"771.5014,-372.0932 781.9793,-370.5241 772.8098,-365.2166 771.5014,-372.0932\"/>\n</g>\n<!-- 7 -->\n<g id=\"node8\" class=\"node\">\n<title>7</title>\n<polygon fill=\"#e58139\" stroke=\"#000000\" points=\"893.1667,-337 786.1667,-337 786.1667,-284 893.1667,-284 893.1667,-337\"/>\n<text text-anchor=\"start\" x=\"803.1667\" y=\"-321.8\" font-family=\"Times,serif\" font-size=\"14.00\" fill=\"#000000\">mse = 0.146</text>\n<text text-anchor=\"start\" x=\"794.1667\" y=\"-306.8\" font-family=\"Times,serif\" font-size=\"14.00\" fill=\"#000000\">samples = 3436</text>\n<text text-anchor=\"start\" x=\"795.6667\" y=\"-291.8\" font-family=\"Times,serif\" font-size=\"14.00\" fill=\"#000000\">value = 11.402</text>\n</g>\n<!-- 5&#45;&gt;7 -->\n<g id=\"edge7\" class=\"edge\">\n<title>5&#45;&gt;7</title>\n<path fill=\"none\" stroke=\"#000000\" d=\"M680.2518,-330.2505C710.4179,-326.5131 745.9254,-322.114 775.7635,-318.4172\"/>\n<polygon fill=\"#000000\" stroke=\"#000000\" points=\"776.5693,-321.8442 786.0631,-317.1412 775.7086,-314.8973 776.5693,-321.8442\"/>\n</g>\n<!-- 9 -->\n<g id=\"node10\" class=\"node\">\n<title>9</title>\n<polygon fill=\"#f6d2b8\" stroke=\"#000000\" points=\"679.1667,-245.5 548.1667,-245.5 548.1667,-177.5 679.1667,-177.5 679.1667,-245.5\"/>\n<text text-anchor=\"start\" x=\"556.1667\" y=\"-230.3\" font-family=\"Times,serif\" font-size=\"14.00\" fill=\"#000000\">YearMade ≤ 1973.5</text>\n<text text-anchor=\"start\" x=\"577.1667\" y=\"-215.3\" font-family=\"Times,serif\" font-size=\"14.00\" fill=\"#000000\">mse = 0.356</text>\n<text text-anchor=\"start\" x=\"560.6667\" y=\"-200.3\" font-family=\"Times,serif\" font-size=\"14.00\" fill=\"#000000\">samples = 135888</text>\n<text text-anchor=\"start\" x=\"569.6667\" y=\"-185.3\" font-family=\"Times,serif\" font-size=\"14.00\" fill=\"#000000\">value = 10.191</text>\n</g>\n<!-- 8&#45;&gt;9 -->\n<g id=\"edge9\" class=\"edge\">\n<title>8&#45;&gt;9</title>\n<path fill=\"none\" stroke=\"#000000\" d=\"M405.1798,-211.5C444.7475,-211.5 496.1504,-211.5 538.0147,-211.5\"/>\n<polygon fill=\"#000000\" stroke=\"#000000\" points=\"538.1637,-215.0001 548.1637,-211.5 538.1636,-208.0001 538.1637,-215.0001\"/>\n</g>\n<!-- 12 -->\n<g id=\"node13\" class=\"node\">\n<title>12</title>\n<polygon fill=\"#fcf1e9\" stroke=\"#000000\" points=\"695.6667,-131.5 531.6667,-131.5 531.6667,-63.5 695.6667,-63.5 695.6667,-131.5\"/>\n<text text-anchor=\"start\" x=\"539.6667\" y=\"-116.3\" font-family=\"Times,serif\" font-size=\"14.00\" fill=\"#000000\">ProductGroup_new ≤ 1.5</text>\n<text text-anchor=\"start\" x=\"577.1667\" y=\"-101.3\" font-family=\"Times,serif\" font-size=\"14.00\" fill=\"#000000\">mse = 0.332</text>\n<text text-anchor=\"start\" x=\"560.6667\" y=\"-86.3\" font-family=\"Times,serif\" font-size=\"14.00\" fill=\"#000000\">samples = 169194</text>\n<text text-anchor=\"start\" x=\"573.1667\" y=\"-71.3\" font-family=\"Times,serif\" font-size=\"14.00\" fill=\"#000000\">value = 9.735</text>\n</g>\n<!-- 8&#45;&gt;12 -->\n<g id=\"edge12\" class=\"edge\">\n<title>8&#45;&gt;12</title>\n<path fill=\"none\" stroke=\"#000000\" d=\"M405.1798,-185.203C440.1246,-170.5029 484.3006,-151.9197 522.9846,-135.6467\"/>\n<polygon fill=\"#000000\" stroke=\"#000000\" points=\"524.8317,-138.6668 532.6922,-131.5631 522.1174,-132.2145 524.8317,-138.6668\"/>\n</g>\n<!-- 10 -->\n<g id=\"node11\" class=\"node\">\n<title>10</title>\n<polygon fill=\"#fceee5\" stroke=\"#000000\" points=\"897.1667,-266 782.1667,-266 782.1667,-213 897.1667,-213 897.1667,-266\"/>\n<text text-anchor=\"start\" x=\"807.1667\" y=\"-250.8\" font-family=\"Times,serif\" font-size=\"14.00\" fill=\"#000000\">mse = 0.24</text>\n<text text-anchor=\"start\" x=\"790.1667\" y=\"-235.8\" font-family=\"Times,serif\" font-size=\"14.00\" fill=\"#000000\">samples = 19486</text>\n<text text-anchor=\"start\" x=\"803.1667\" y=\"-220.8\" font-family=\"Times,serif\" font-size=\"14.00\" fill=\"#000000\">value = 9.77</text>\n</g>\n<!-- 9&#45;&gt;10 -->\n<g id=\"edge10\" class=\"edge\">\n<title>9&#45;&gt;10</title>\n<path fill=\"none\" stroke=\"#000000\" d=\"M679.3388,-219.6364C708.3675,-223.2328 742.4822,-227.4594 771.7638,-231.0873\"/>\n<polygon fill=\"#000000\" stroke=\"#000000\" points=\"771.5487,-234.5873 781.9032,-232.3435 772.4095,-227.6404 771.5487,-234.5873\"/>\n</g>\n<!-- 11 -->\n<g id=\"node12\" class=\"node\">\n<title>11</title>\n<polygon fill=\"#f5cdb1\" stroke=\"#000000\" points=\"900.6667,-195 778.6667,-195 778.6667,-142 900.6667,-142 900.6667,-195\"/>\n<text text-anchor=\"start\" x=\"803.1667\" y=\"-179.8\" font-family=\"Times,serif\" font-size=\"14.00\" fill=\"#000000\">mse = 0.341</text>\n<text text-anchor=\"start\" x=\"786.6667\" y=\"-164.8\" font-family=\"Times,serif\" font-size=\"14.00\" fill=\"#000000\">samples = 116402</text>\n<text text-anchor=\"start\" x=\"795.6667\" y=\"-149.8\" font-family=\"Times,serif\" font-size=\"14.00\" fill=\"#000000\">value = 10.261</text>\n</g>\n<!-- 9&#45;&gt;11 -->\n<g id=\"edge11\" class=\"edge\">\n<title>9&#45;&gt;11</title>\n<path fill=\"none\" stroke=\"#000000\" d=\"M679.3388,-199.0049C707.3183,-193.6813 740.0227,-187.4588 768.5702,-182.0272\"/>\n<polygon fill=\"#000000\" stroke=\"#000000\" points=\"769.3103,-185.4493 778.4799,-180.1417 768.0019,-178.5726 769.3103,-185.4493\"/>\n</g>\n<!-- 13 -->\n<g id=\"node14\" class=\"node\">\n<title>13</title>\n<polygon fill=\"#ffffff\" stroke=\"#000000\" points=\"897.1667,-124 782.1667,-124 782.1667,-71 897.1667,-71 897.1667,-124\"/>\n<text text-anchor=\"start\" x=\"803.1667\" y=\"-108.8\" font-family=\"Times,serif\" font-size=\"14.00\" fill=\"#000000\">mse = 0.338</text>\n<text text-anchor=\"start\" x=\"790.1667\" y=\"-93.8\" font-family=\"Times,serif\" font-size=\"14.00\" fill=\"#000000\">samples = 61515</text>\n<text text-anchor=\"start\" x=\"799.1667\" y=\"-78.8\" font-family=\"Times,serif\" font-size=\"14.00\" fill=\"#000000\">value = 9.521</text>\n</g>\n<!-- 12&#45;&gt;13 -->\n<g id=\"edge13\" class=\"edge\">\n<title>12&#45;&gt;13</title>\n<path fill=\"none\" stroke=\"#000000\" d=\"M695.8972,-97.5C720.855,-97.5 747.9805,-97.5 771.8763,-97.5\"/>\n<polygon fill=\"#000000\" stroke=\"#000000\" points=\"771.9038,-101.0001 781.9038,-97.5 771.9038,-94.0001 771.9038,-101.0001\"/>\n</g>\n<!-- 14 -->\n<g id=\"node15\" class=\"node\">\n<title>14</title>\n<polygon fill=\"#fae9dc\" stroke=\"#000000\" points=\"900.6667,-53 778.6667,-53 778.6667,0 900.6667,0 900.6667,-53\"/>\n<text text-anchor=\"start\" x=\"803.1667\" y=\"-37.8\" font-family=\"Times,serif\" font-size=\"14.00\" fill=\"#000000\">mse = 0.287</text>\n<text text-anchor=\"start\" x=\"786.6667\" y=\"-22.8\" font-family=\"Times,serif\" font-size=\"14.00\" fill=\"#000000\">samples = 107679</text>\n<text text-anchor=\"start\" x=\"799.1667\" y=\"-7.8\" font-family=\"Times,serif\" font-size=\"14.00\" fill=\"#000000\">value = 9.857</text>\n</g>\n<!-- 12&#45;&gt;14 -->\n<g id=\"edge14\" class=\"edge\">\n<title>12&#45;&gt;14</title>\n<path fill=\"none\" stroke=\"#000000\" d=\"M695.8972,-71.6665C719.7507,-64.1727 745.5843,-56.0569 768.6858,-48.7993\"/>\n<polygon fill=\"#000000\" stroke=\"#000000\" points=\"769.9141,-52.0821 778.4054,-45.7458 767.8161,-45.4039 769.9141,-52.0821\"/>\n</g>\n</g>\n</svg>\n"
          },
          "metadata": {
            "tags": []
          }
        }
      ]
    },
    {
      "cell_type": "markdown",
      "metadata": {
        "colab_type": "text",
        "id": "0Bf4R7B3Tz_r"
      },
      "source": [
        "Creating a bigger tree"
      ]
    },
    {
      "cell_type": "code",
      "metadata": {
        "colab_type": "code",
        "id": "hCOF9hM4HxjJ",
        "outputId": "d24a28f1-f166-4f71-c481-0b12c07d13e5",
        "colab": {
          "base_uri": "https://localhost:8080/",
          "height": 34
        }
      },
      "source": [
        "m = RandomForestRegressor(n_estimators=1, bootstrap=False, n_jobs=-1)\n",
        "m.fit(X_train, y_train)\n",
        "print_score(m)"
      ],
      "execution_count": 0,
      "outputs": [
        {
          "output_type": "stream",
          "text": [
            "[9.128523288431049e-07, 0.37507134298925837, 0.9999999999982585, 0.7487675456967963]\n"
          ],
          "name": "stdout"
        }
      ]
    },
    {
      "cell_type": "markdown",
      "metadata": {
        "colab_type": "text",
        "id": "Neiw-mkrUAso"
      },
      "source": [
        "# Bagging"
      ]
    },
    {
      "cell_type": "markdown",
      "metadata": {
        "colab_type": "text",
        "id": "bsPfKUGOUDlH"
      },
      "source": [
        "## Intro to bagging\n",
        "\n",
        "To learn about bagging in random forests, let's start with our basic model again."
      ]
    },
    {
      "cell_type": "code",
      "metadata": {
        "colab_type": "code",
        "id": "iZDnFzaQT_u8",
        "outputId": "a8d16355-b515-48a6-ed8f-1fe2d97d95df",
        "colab": {
          "base_uri": "https://localhost:8080/",
          "height": 89
        }
      },
      "source": [
        "m = RandomForestRegressor(n_jobs=-1)\n",
        "m.fit(X_train, y_train)\n",
        "print_score(m)"
      ],
      "execution_count": 0,
      "outputs": [
        {
          "output_type": "stream",
          "text": [
            "/usr/local/lib/python3.6/dist-packages/sklearn/ensemble/forest.py:245: FutureWarning: The default value of n_estimators will change from 10 in version 0.20 to 100 in 0.22.\n",
            "  \"10 in version 0.20 to 100 in 0.22.\", FutureWarning)\n"
          ],
          "name": "stderr"
        },
        {
          "output_type": "stream",
          "text": [
            "[0.0933315390756768, 0.2586102173816824, 0.9817949581659106, 0.8805628772456311]\n"
          ],
          "name": "stdout"
        }
      ]
    },
    {
      "cell_type": "code",
      "metadata": {
        "colab_type": "code",
        "id": "dOVL4yqUTsMs",
        "outputId": "febdd652-6475-47a1-e020-8ed7f99fe932",
        "colab": {
          "base_uri": "https://localhost:8080/",
          "height": 104
        }
      },
      "source": [
        "preds = np.stack([t.predict(X_valid) for t in m.estimators_])\n",
        "preds[:,0], np.mean(preds[:,0]), y_valid[:1]\n"
      ],
      "execution_count": 0,
      "outputs": [
        {
          "output_type": "execute_result",
          "data": {
            "text/plain": [
              "(array([9.10497986, 9.25913054, 8.98719682, 8.9226583 , 9.10497986,\n",
              "        9.10497986, 9.21034037, 9.21034037, 9.21034037, 9.21034037]),\n",
              " 9.13252867131918,\n",
              " 389125    9.10498\n",
              " Name: SalePrice, dtype: float64)"
            ]
          },
          "metadata": {
            "tags": []
          },
          "execution_count": 29
        }
      ]
    },
    {
      "cell_type": "code",
      "metadata": {
        "id": "6ROEzHJIL7EA",
        "colab_type": "code",
        "outputId": "2f02b70d-e953-4d0e-d977-fa76f6d7a7b1",
        "colab": {
          "base_uri": "https://localhost:8080/",
          "height": 34
        }
      },
      "source": [
        "preds.shape"
      ],
      "execution_count": 0,
      "outputs": [
        {
          "output_type": "execute_result",
          "data": {
            "text/plain": [
              "(10, 12000)"
            ]
          },
          "metadata": {
            "tags": []
          },
          "execution_count": 30
        }
      ]
    },
    {
      "cell_type": "code",
      "metadata": {
        "colab_type": "code",
        "id": "CasaNNaUUUJ3",
        "outputId": "b1486320-eb9c-4d4a-deca-6fc359079714",
        "colab": {
          "base_uri": "https://localhost:8080/",
          "height": 34
        }
      },
      "source": [
        "y_valid.shape"
      ],
      "execution_count": 0,
      "outputs": [
        {
          "output_type": "execute_result",
          "data": {
            "text/plain": [
              "(12000,)"
            ]
          },
          "metadata": {
            "tags": []
          },
          "execution_count": 31
        }
      ]
    },
    {
      "cell_type": "code",
      "metadata": {
        "colab_type": "code",
        "id": "WFpT2WfTU2DA",
        "outputId": "7caa86fa-e148-41bb-8ddf-d01587c9ec31",
        "colab": {
          "base_uri": "https://localhost:8080/",
          "height": 52
        }
      },
      "source": [
        "y_valid[0:1]"
      ],
      "execution_count": 0,
      "outputs": [
        {
          "output_type": "execute_result",
          "data": {
            "text/plain": [
              "389125    9.10498\n",
              "Name: SalePrice, dtype: float64"
            ]
          },
          "metadata": {
            "tags": []
          },
          "execution_count": 32
        }
      ]
    },
    {
      "cell_type": "code",
      "metadata": {
        "colab_type": "code",
        "id": "MLFJXppVVCXT",
        "outputId": "f13418cf-5e53-47a7-9f44-2a8e6e83a1a8",
        "colab": {
          "base_uri": "https://localhost:8080/",
          "height": 34
        }
      },
      "source": [
        "preds.shape"
      ],
      "execution_count": 0,
      "outputs": [
        {
          "output_type": "execute_result",
          "data": {
            "text/plain": [
              "(10, 12000)"
            ]
          },
          "metadata": {
            "tags": []
          },
          "execution_count": 33
        }
      ]
    },
    {
      "cell_type": "code",
      "metadata": {
        "colab_type": "code",
        "id": "mllsZ99QVP7e",
        "outputId": "32e1dbc4-1589-488a-b90b-756ec23ded4d",
        "colab": {
          "base_uri": "https://localhost:8080/",
          "height": 265
        }
      },
      "source": [
        "from sklearn.metrics import r2_score\n",
        "plt.plot([r2_score(y_valid, np.mean(preds[:i+1], axis=0)) for i in range(10)]);"
      ],
      "execution_count": 0,
      "outputs": [
        {
          "output_type": "display_data",
          "data": {
            "image/png": "[encoded data removed]",
            "text/plain": [
              "<Figure size 432x288 with 1 Axes>"
            ]
          },
          "metadata": {
            "tags": []
          }
        }
      ]
    },
    {
      "cell_type": "markdown",
      "metadata": {
        "colab_type": "text",
        "id": "zXzAJjRAVetF"
      },
      "source": [
        "The shape of this curve suggests that adding more trees isn't going to help us much. Let's check. (Compare this to our original model on a sample)"
      ]
    },
    {
      "cell_type": "code",
      "metadata": {
        "colab_type": "code",
        "id": "GEMeV4FgVSw6",
        "outputId": "c41659cc-b09d-41e5-99e4-30efcbec4a59",
        "colab": {
          "base_uri": "https://localhost:8080/",
          "height": 34
        }
      },
      "source": [
        "m = RandomForestRegressor(n_estimators=20, n_jobs=-1)\n",
        "m.fit(X_train, y_train)\n",
        "print_score(m)"
      ],
      "execution_count": 0,
      "outputs": [
        {
          "output_type": "stream",
          "text": [
            "[0.08528312756886786, 0.2463246186050254, 0.9847993883519859, 0.8916413434239283]\n"
          ],
          "name": "stdout"
        }
      ]
    },
    {
      "cell_type": "code",
      "metadata": {
        "colab_type": "code",
        "id": "6sdSQKgSVjgy",
        "outputId": "51f20339-0f5b-4607-f181-7be616319ef8",
        "colab": {
          "base_uri": "https://localhost:8080/",
          "height": 34
        }
      },
      "source": [
        "m = RandomForestRegressor(n_estimators=40, n_jobs=-1)\n",
        "m.fit(X_train, y_train)\n",
        "print_score(m)"
      ],
      "execution_count": 0,
      "outputs": [
        {
          "output_type": "stream",
          "text": [
            "[0.08103365003702738, 0.24166318527409852, 0.9862764765406158, 0.8957036848272024]\n"
          ],
          "name": "stdout"
        }
      ]
    },
    {
      "cell_type": "code",
      "metadata": {
        "colab_type": "code",
        "id": "QQ7m__AjVlcv",
        "outputId": "51cd75f1-1e57-43c5-a7b3-2d5d3cdbb794",
        "colab": {
          "base_uri": "https://localhost:8080/",
          "height": 34
        }
      },
      "source": [
        "m = RandomForestRegressor(n_estimators=80, n_jobs=-1)\n",
        "m.fit(X_train, y_train)\n",
        "print_score(m)"
      ],
      "execution_count": 0,
      "outputs": [
        {
          "output_type": "stream",
          "text": [
            "[0.07892860737236582, 0.23969685305787924, 0.9869802181873193, 0.8973940280697286]\n"
          ],
          "name": "stdout"
        }
      ]
    },
    {
      "cell_type": "markdown",
      "metadata": {
        "colab_type": "text",
        "id": "4xlN-ExUVrpZ"
      },
      "source": [
        "# Out-of-bag (OOB) score\n",
        "Is our validation set worse than our training set because we're over-fitting, or because the validation set is for a different time period, or a bit of both? With the existing information we've shown, we can't tell. However, random forests have a very clever trick called out-of-bag (OOB) error which can handle this (and more!)\n",
        "\n",
        "The idea is to calculate error on the training set, but only include the trees in the calculation of a row's error where that row was not included in training that tree. This allows us to see whether the model is over-fitting, without needing a separate validation set.\n",
        "\n",
        "This also has the benefit of allowing us to see whether our model generalizes, even if we only have a small amount of data so want to avoid separating some out to create a validation set.\n",
        "\n",
        "This is as simple as adding one more parameter to our model constructor. We print the OOB error last in our print_score function below."
      ]
    },
    {
      "cell_type": "code",
      "metadata": {
        "colab_type": "code",
        "id": "w0RFhaYyVosP",
        "outputId": "1da60e23-0a95-41b8-96e7-31014c2a7f1a",
        "colab": {
          "base_uri": "https://localhost:8080/",
          "height": 34
        }
      },
      "source": [
        "m = RandomForestRegressor(n_estimators=40, n_jobs=-1, oob_score=True)\n",
        "m.fit(X_train, y_train)\n",
        "print_score(m)"
      ],
      "execution_count": 0,
      "outputs": [
        {
          "output_type": "stream",
          "text": [
            "[0.08101332756594921, 0.24168033838928193, 0.9862833591365799, 0.8956888785157102, 0.9021035322381753]\n"
          ],
          "name": "stdout"
        }
      ]
    },
    {
      "cell_type": "markdown",
      "metadata": {
        "colab_type": "text",
        "id": "sxXtIpWWYIJm"
      },
      "source": [
        "# Reducing over-fitting\n",
        "\n",
        "## Subsampling\n",
        "\n",
        "It turns out that one of the easiest ways to avoid over-fitting is also one of the best ways to speed up analysis: subsampling. Let's return to using our full dataset, so that we can demonstrate the impact of this technique."
      ]
    },
    {
      "cell_type": "code",
      "metadata": {
        "colab_type": "code",
        "id": "yGQ6C8mJX8Gb",
        "colab": {}
      },
      "source": [
        "data_sample = data_prac.sample(20000)"
      ],
      "execution_count": 0,
      "outputs": []
    },
    {
      "cell_type": "code",
      "metadata": {
        "colab_type": "code",
        "id": "s1qSNe0cfs1g",
        "outputId": "f00b5306-3d50-4b82-e540-30697d92df38",
        "colab": {
          "base_uri": "https://localhost:8080/",
          "height": 34
        }
      },
      "source": [
        "len(data_sample)"
      ],
      "execution_count": 0,
      "outputs": [
        {
          "output_type": "execute_result",
          "data": {
            "text/plain": [
              "20000"
            ]
          },
          "metadata": {
            "tags": []
          },
          "execution_count": 40
        }
      ]
    },
    {
      "cell_type": "code",
      "metadata": {
        "colab_type": "code",
        "id": "z-pMjnMGgDTO",
        "colab": {}
      },
      "source": [
        "X = data_sample.drop('SalePrice', axis=1)\n",
        "y = data_sample.SalePrice"
      ],
      "execution_count": 0,
      "outputs": []
    },
    {
      "cell_type": "code",
      "metadata": {
        "colab_type": "code",
        "id": "SNk2NONAfvLL",
        "outputId": "bf043733-9d88-451d-ad2c-12634c3ac1d2",
        "colab": {
          "base_uri": "https://localhost:8080/",
          "height": 34
        }
      },
      "source": [
        "X_train, X_valid = split_vals(X, 12000)\n",
        "y_train, y_valid = split_vals(y, 12000)\n",
        "\n",
        "X_train.shape, y_train.shape, X_valid.shape"
      ],
      "execution_count": 0,
      "outputs": [
        {
          "output_type": "execute_result",
          "data": {
            "text/plain": [
              "((12000, 52), (12000,), (8000, 52))"
            ]
          },
          "metadata": {
            "tags": []
          },
          "execution_count": 42
        }
      ]
    },
    {
      "cell_type": "code",
      "metadata": {
        "colab_type": "code",
        "id": "wq2Q8M09gPk0",
        "outputId": "45801a59-4cdd-42d3-9df1-17626fc83249",
        "colab": {
          "base_uri": "https://localhost:8080/",
          "height": 159
        }
      },
      "source": [
        "m = RandomForestRegressor(n_jobs=-1, oob_score=True)\n",
        "%time m.fit(X_train, y_train)\n",
        "print_score(m)"
      ],
      "execution_count": 0,
      "outputs": [
        {
          "output_type": "stream",
          "text": [
            "/usr/local/lib/python3.6/dist-packages/sklearn/ensemble/forest.py:245: FutureWarning: The default value of n_estimators will change from 10 in version 0.20 to 100 in 0.22.\n",
            "  \"10 in version 0.20 to 100 in 0.22.\", FutureWarning)\n",
            "/usr/local/lib/python3.6/dist-packages/sklearn/ensemble/forest.py:737: UserWarning: Some inputs do not have OOB scores. This probably means too few trees were used to compute any reliable oob estimates.\n",
            "  warn(\"Some inputs do not have OOB scores. \"\n"
          ],
          "name": "stderr"
        },
        {
          "output_type": "stream",
          "text": [
            "CPU times: user 1.69 s, sys: 1.9 ms, total: 1.69 s\n",
            "Wall time: 943 ms\n",
            "[0.13270001538889875, 0.31034240426460324, 0.9638921997610826, 0.8006578814587626, -1.453258871429191]\n"
          ],
          "name": "stdout"
        }
      ]
    },
    {
      "cell_type": "code",
      "metadata": {
        "colab_type": "code",
        "id": "UG3kc0vKgkLl",
        "outputId": "bb44cff5-b74e-49c2-a047-94b883ff625f",
        "colab": {
          "base_uri": "https://localhost:8080/",
          "height": 34
        }
      },
      "source": [
        "m = RandomForestRegressor(n_estimators=40, n_jobs=-1, oob_score=True)\n",
        "m.fit(X_train, y_train)\n",
        "print_score(m)"
      ],
      "execution_count": 0,
      "outputs": [
        {
          "output_type": "stream",
          "text": [
            "[0.11496526187994922, 0.296318842198888, 0.9728985610373078, 0.8182663433931118, 0.8086737171194932]\n"
          ],
          "name": "stdout"
        }
      ]
    },
    {
      "cell_type": "markdown",
      "metadata": {
        "colab_type": "text",
        "id": "11qZebJSh1Zw"
      },
      "source": [
        "# Tree building parameters\n",
        "\n",
        "Playing with hyperparameters"
      ]
    },
    {
      "cell_type": "markdown",
      "metadata": {
        "colab_type": "text",
        "id": "9On5FzgqinAQ"
      },
      "source": [
        "Another way to reduce over-fitting is to grow our trees less deeply. We do this by specifying (with min_samples_leaf) that we require some minimum number of rows in every leaf node. This has two benefits:\n",
        "\n",
        "- There are less decision rules for each leaf node; simpler models should generalize better\n",
        "\n",
        "- The predictions are made by averaging more rows in the leaf node, resulting in less volatility"
      ]
    },
    {
      "cell_type": "code",
      "metadata": {
        "colab_type": "code",
        "id": "0BWEgzsVhMMk",
        "outputId": "0effe267-3315-4552-eef4-aaed41f458d3",
        "colab": {
          "base_uri": "https://localhost:8080/",
          "height": 34
        }
      },
      "source": [
        "m = RandomForestRegressor(n_estimators=40, min_samples_leaf=3, n_jobs=-1, oob_score=True)\n",
        "m.fit(X_train, y_train)\n",
        "print_score(m)"
      ],
      "execution_count": 0,
      "outputs": [
        {
          "output_type": "stream",
          "text": [
            "[0.16650944962726436, 0.2988912309913321, 0.9431491640176256, 0.8150973326604833, 0.8091452705030624]\n"
          ],
          "name": "stdout"
        }
      ]
    },
    {
      "cell_type": "markdown",
      "metadata": {
        "colab_type": "text",
        "id": "r23xzY0sjVFm"
      },
      "source": [
        "We can also increase the amount of variation amongst the trees by not only use a sample of rows for each tree, but to also using a sample of columns for each split. We do this by specifying max_features, which is the proportion of features to randomly select from at each split.\n",
        "- None\n",
        "- 0.5\n",
        "- 'sqrt'\n",
        "- 1, 3, 5, 10, 25, 100"
      ]
    },
    {
      "cell_type": "code",
      "metadata": {
        "colab_type": "code",
        "id": "8eHxnR8Yifu8",
        "outputId": "b4879d82-733e-44ae-d714-9af3a1599c0c",
        "colab": {
          "base_uri": "https://localhost:8080/",
          "height": 34
        }
      },
      "source": [
        "m = RandomForestRegressor(n_estimators=40, min_samples_leaf=3, max_features=0.5, n_jobs=-1, oob_score=True)\n",
        "m.fit(X_train, y_train)\n",
        "print_score(m)"
      ],
      "execution_count": 0,
      "outputs": [
        {
          "output_type": "stream",
          "text": [
            "[0.17608544538205403, 0.29648719689791825, 0.9364221254621936, 0.8180597793665273, 0.8111987635828175]\n"
          ],
          "name": "stdout"
        }
      ]
    },
    {
      "cell_type": "code",
      "metadata": {
        "colab_type": "code",
        "id": "Gt8vaQzVjsGj",
        "outputId": "c0a952b8-f375-4974-afa9-c271144dd256",
        "colab": {
          "base_uri": "https://localhost:8080/",
          "height": 34
        }
      },
      "source": [
        "m = RandomForestRegressor(n_estimators=40, min_samples_leaf=1, max_features=0.5, n_jobs=-1, oob_score=True)\n",
        "m.fit(X_train, y_train)\n",
        "print_score(m)"
      ],
      "execution_count": 0,
      "outputs": [
        {
          "output_type": "stream",
          "text": [
            "[0.11360077723120854, 0.2947529404683533, 0.9735380594060055, 0.8201820171940638, 0.810448546222198]\n"
          ],
          "name": "stdout"
        }
      ]
    },
    {
      "cell_type": "code",
      "metadata": {
        "id": "u5M-X7wNWTJ3",
        "colab_type": "code",
        "outputId": "29e987f6-5ca9-4003-f7ec-220048e2610b",
        "colab": {
          "base_uri": "https://localhost:8080/",
          "height": 34
        }
      },
      "source": [
        "m = RandomForestRegressor(n_estimators=40, min_samples_leaf=2, max_features=0.5, n_jobs=-1, oob_score=True)\n",
        "%prun m.fit(X_train, y_train)\n",
        "print_score(m)"
      ],
      "execution_count": 0,
      "outputs": [
        {
          "output_type": "stream",
          "text": [
            " [0.14726928097231945, 0.2937549186034913, 0.9555283321363798, 0.8213976688658833, 0.8109660554220943]\n"
          ],
          "name": "stdout"
        }
      ]
    },
    {
      "cell_type": "code",
      "metadata": {
        "id": "B8eYrZZiWeEX",
        "colab_type": "code",
        "outputId": "3661ff91-e6bf-43ad-ad87-07185dbe44fa",
        "colab": {
          "base_uri": "https://localhost:8080/",
          "height": 34
        }
      },
      "source": [
        "m = RandomForestRegressor(n_estimators=20, min_samples_leaf=50, max_features=0.5, n_jobs=-1, oob_score=True)\n",
        "%prun m.fit(X_train, y_train)\n",
        "print_score(m)"
      ],
      "execution_count": 0,
      "outputs": [
        {
          "output_type": "stream",
          "text": [
            " [0.35878558520229975, 0.3760453276190067, 0.7360455080792119, 0.7073171855146929, 0.7033427927592393]\n"
          ],
          "name": "stdout"
        }
      ]
    },
    {
      "cell_type": "code",
      "metadata": {
        "id": "ZE-AY8t3Wjte",
        "colab_type": "code",
        "colab": {}
      },
      "source": [
        "import pickle"
      ],
      "execution_count": 0,
      "outputs": []
    },
    {
      "cell_type": "code",
      "metadata": {
        "id": "q8DUVjKIktHt",
        "colab_type": "code",
        "colab": {}
      },
      "source": [
        "pickle.dump(m,open('Rfweights.pkl','wb'))"
      ],
      "execution_count": 0,
      "outputs": []
    },
    {
      "cell_type": "code",
      "metadata": {
        "id": "871UMY5Nk8eu",
        "colab_type": "code",
        "outputId": "66c389b0-6b9c-4271-8c2d-a23eb110d7a1",
        "colab": {
          "base_uri": "https://localhost:8080/",
          "height": 208
        }
      },
      "source": [
        "y_train[:10]"
      ],
      "execution_count": 0,
      "outputs": [
        {
          "output_type": "execute_result",
          "data": {
            "text/plain": [
              "178522    11.156251\n",
              "283305     9.104980\n",
              "287765     9.472705\n",
              "151173    11.050890\n",
              "4711       9.928180\n",
              "110753    10.491274\n",
              "77512      9.305651\n",
              "69080     10.571317\n",
              "122350    11.156251\n",
              "324554    10.645425\n",
              "Name: SalePrice, dtype: float64"
            ]
          },
          "metadata": {
            "tags": []
          },
          "execution_count": 52
        }
      ]
    },
    {
      "cell_type": "code",
      "metadata": {
        "id": "mDp_5lwjm6sq",
        "colab_type": "code",
        "colab": {}
      },
      "source": [
        ""
      ],
      "execution_count": 0,
      "outputs": []
    }
  ]
}